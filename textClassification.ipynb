{
  "cells": [
    {
      "cell_type": "markdown",
      "metadata": {
        "id": "7RshmGIw9mib"
      },
      "source": [
        "# **Import**"
      ]
    },
    {
      "cell_type": "code",
      "execution_count": null,
      "metadata": {
        "colab": {
          "base_uri": "https://localhost:8080/"
        },
        "id": "F14aMAtB09lA",
        "outputId": "581986dc-2132-42f8-f27f-3e77efd9f8d9"
      },
      "outputs": [
        {
          "output_type": "stream",
          "name": "stderr",
          "text": [
            "[nltk_data] Downloading package punkt to /root/nltk_data...\n",
            "[nltk_data]   Package punkt is already up-to-date!\n",
            "[nltk_data] Downloading package stopwords to /root/nltk_data...\n",
            "[nltk_data]   Package stopwords is already up-to-date!\n"
          ]
        }
      ],
      "source": [
        "import pandas as pd\n",
        "import string\n",
        "import nltk\n",
        "nltk.download('punkt')\n",
        "nltk.download('stopwords')\n",
        "from nltk.corpus import stopwords\n",
        "from collections import Counter\n",
        "\n",
        "from sklearn.feature_extraction.text import TfidfVectorizer\n",
        "from sklearn.neural_network import MLPClassifier\n",
        "from sklearn.ensemble import RandomForestClassifier\n",
        "from sklearn.model_selection import train_test_split\n",
        "\n",
        "from sklearn.metrics import classification_report\n",
        "\n",
        "\n",
        "# Load the IMDB dataset\n",
        "df = pd.read_csv(\"IMDB Dataset.csv\")"
      ]
    },
    {
      "cell_type": "markdown",
      "metadata": {
        "id": "bIQl4c0n1c8Z"
      },
      "source": [
        "# **PRE**-**PROCESSING**"
      ]
    },
    {
      "cell_type": "code",
      "execution_count": null,
      "metadata": {
        "id": "m5plKZvA3Euk"
      },
      "outputs": [],
      "source": [
        "def preprocess(text):\n",
        "    # Remove non-alphabetical characters\n",
        "    text = text.lower()\n",
        "    text = ''.join([c for c in text if c in string.ascii_lowercase or c.isspace()])\n",
        "\n",
        "    # Remove stop words\n",
        "    stop_words = set(stopwords.words('english'))\n",
        "    words = text.split()\n",
        "    words = [word for word in words if word not in stop_words]\n",
        "\n",
        "    return ' '.join(words)\n",
        "\n",
        "# Pre-process the training and testing sets\n",
        "df['review'] = df['review'].apply(preprocess)"
      ]
    },
    {
      "cell_type": "code",
      "execution_count": null,
      "metadata": {
        "colab": {
          "base_uri": "https://localhost:8080/",
          "height": 424
        },
        "id": "5dD3ctRw35oQ",
        "outputId": "ef749f6d-625b-42d2-d878-478b5bbf85f6"
      },
      "outputs": [
        {
          "output_type": "execute_result",
          "data": {
            "text/plain": [
              "                                                  review sentiment\n",
              "0      one reviewers mentioned watching oz episode yo...  positive\n",
              "1      wonderful little production br br filming tech...  positive\n",
              "2      thought wonderful way spend time hot summer we...  positive\n",
              "3      basically theres family little boy jake thinks...  negative\n",
              "4      petter matteis love time money visually stunni...  positive\n",
              "...                                                  ...       ...\n",
              "49995  thought movie right good job wasnt creative or...  positive\n",
              "49996  bad plot bad dialogue bad acting idiotic direc...  negative\n",
              "49997  catholic taught parochial elementary schools n...  negative\n",
              "49998  im going disagree previous comment side maltin...  negative\n",
              "49999  one expects star trek movies high art fans exp...  negative\n",
              "\n",
              "[50000 rows x 2 columns]"
            ],
            "text/html": [
              "\n",
              "  <div id=\"df-fc0ed2f0-001b-4c24-8744-752c2dd55bb4\">\n",
              "    <div class=\"colab-df-container\">\n",
              "      <div>\n",
              "<style scoped>\n",
              "    .dataframe tbody tr th:only-of-type {\n",
              "        vertical-align: middle;\n",
              "    }\n",
              "\n",
              "    .dataframe tbody tr th {\n",
              "        vertical-align: top;\n",
              "    }\n",
              "\n",
              "    .dataframe thead th {\n",
              "        text-align: right;\n",
              "    }\n",
              "</style>\n",
              "<table border=\"1\" class=\"dataframe\">\n",
              "  <thead>\n",
              "    <tr style=\"text-align: right;\">\n",
              "      <th></th>\n",
              "      <th>review</th>\n",
              "      <th>sentiment</th>\n",
              "    </tr>\n",
              "  </thead>\n",
              "  <tbody>\n",
              "    <tr>\n",
              "      <th>0</th>\n",
              "      <td>one reviewers mentioned watching oz episode yo...</td>\n",
              "      <td>positive</td>\n",
              "    </tr>\n",
              "    <tr>\n",
              "      <th>1</th>\n",
              "      <td>wonderful little production br br filming tech...</td>\n",
              "      <td>positive</td>\n",
              "    </tr>\n",
              "    <tr>\n",
              "      <th>2</th>\n",
              "      <td>thought wonderful way spend time hot summer we...</td>\n",
              "      <td>positive</td>\n",
              "    </tr>\n",
              "    <tr>\n",
              "      <th>3</th>\n",
              "      <td>basically theres family little boy jake thinks...</td>\n",
              "      <td>negative</td>\n",
              "    </tr>\n",
              "    <tr>\n",
              "      <th>4</th>\n",
              "      <td>petter matteis love time money visually stunni...</td>\n",
              "      <td>positive</td>\n",
              "    </tr>\n",
              "    <tr>\n",
              "      <th>...</th>\n",
              "      <td>...</td>\n",
              "      <td>...</td>\n",
              "    </tr>\n",
              "    <tr>\n",
              "      <th>49995</th>\n",
              "      <td>thought movie right good job wasnt creative or...</td>\n",
              "      <td>positive</td>\n",
              "    </tr>\n",
              "    <tr>\n",
              "      <th>49996</th>\n",
              "      <td>bad plot bad dialogue bad acting idiotic direc...</td>\n",
              "      <td>negative</td>\n",
              "    </tr>\n",
              "    <tr>\n",
              "      <th>49997</th>\n",
              "      <td>catholic taught parochial elementary schools n...</td>\n",
              "      <td>negative</td>\n",
              "    </tr>\n",
              "    <tr>\n",
              "      <th>49998</th>\n",
              "      <td>im going disagree previous comment side maltin...</td>\n",
              "      <td>negative</td>\n",
              "    </tr>\n",
              "    <tr>\n",
              "      <th>49999</th>\n",
              "      <td>one expects star trek movies high art fans exp...</td>\n",
              "      <td>negative</td>\n",
              "    </tr>\n",
              "  </tbody>\n",
              "</table>\n",
              "<p>50000 rows × 2 columns</p>\n",
              "</div>\n",
              "      <button class=\"colab-df-convert\" onclick=\"convertToInteractive('df-fc0ed2f0-001b-4c24-8744-752c2dd55bb4')\"\n",
              "              title=\"Convert this dataframe to an interactive table.\"\n",
              "              style=\"display:none;\">\n",
              "        \n",
              "  <svg xmlns=\"http://www.w3.org/2000/svg\" height=\"24px\"viewBox=\"0 0 24 24\"\n",
              "       width=\"24px\">\n",
              "    <path d=\"M0 0h24v24H0V0z\" fill=\"none\"/>\n",
              "    <path d=\"M18.56 5.44l.94 2.06.94-2.06 2.06-.94-2.06-.94-.94-2.06-.94 2.06-2.06.94zm-11 1L8.5 8.5l.94-2.06 2.06-.94-2.06-.94L8.5 2.5l-.94 2.06-2.06.94zm10 10l.94 2.06.94-2.06 2.06-.94-2.06-.94-.94-2.06-.94 2.06-2.06.94z\"/><path d=\"M17.41 7.96l-1.37-1.37c-.4-.4-.92-.59-1.43-.59-.52 0-1.04.2-1.43.59L10.3 9.45l-7.72 7.72c-.78.78-.78 2.05 0 2.83L4 21.41c.39.39.9.59 1.41.59.51 0 1.02-.2 1.41-.59l7.78-7.78 2.81-2.81c.8-.78.8-2.07 0-2.86zM5.41 20L4 18.59l7.72-7.72 1.47 1.35L5.41 20z\"/>\n",
              "  </svg>\n",
              "      </button>\n",
              "      \n",
              "  <style>\n",
              "    .colab-df-container {\n",
              "      display:flex;\n",
              "      flex-wrap:wrap;\n",
              "      gap: 12px;\n",
              "    }\n",
              "\n",
              "    .colab-df-convert {\n",
              "      background-color: #E8F0FE;\n",
              "      border: none;\n",
              "      border-radius: 50%;\n",
              "      cursor: pointer;\n",
              "      display: none;\n",
              "      fill: #1967D2;\n",
              "      height: 32px;\n",
              "      padding: 0 0 0 0;\n",
              "      width: 32px;\n",
              "    }\n",
              "\n",
              "    .colab-df-convert:hover {\n",
              "      background-color: #E2EBFA;\n",
              "      box-shadow: 0px 1px 2px rgba(60, 64, 67, 0.3), 0px 1px 3px 1px rgba(60, 64, 67, 0.15);\n",
              "      fill: #174EA6;\n",
              "    }\n",
              "\n",
              "    [theme=dark] .colab-df-convert {\n",
              "      background-color: #3B4455;\n",
              "      fill: #D2E3FC;\n",
              "    }\n",
              "\n",
              "    [theme=dark] .colab-df-convert:hover {\n",
              "      background-color: #434B5C;\n",
              "      box-shadow: 0px 1px 3px 1px rgba(0, 0, 0, 0.15);\n",
              "      filter: drop-shadow(0px 1px 2px rgba(0, 0, 0, 0.3));\n",
              "      fill: #FFFFFF;\n",
              "    }\n",
              "  </style>\n",
              "\n",
              "      <script>\n",
              "        const buttonEl =\n",
              "          document.querySelector('#df-fc0ed2f0-001b-4c24-8744-752c2dd55bb4 button.colab-df-convert');\n",
              "        buttonEl.style.display =\n",
              "          google.colab.kernel.accessAllowed ? 'block' : 'none';\n",
              "\n",
              "        async function convertToInteractive(key) {\n",
              "          const element = document.querySelector('#df-fc0ed2f0-001b-4c24-8744-752c2dd55bb4');\n",
              "          const dataTable =\n",
              "            await google.colab.kernel.invokeFunction('convertToInteractive',\n",
              "                                                     [key], {});\n",
              "          if (!dataTable) return;\n",
              "\n",
              "          const docLinkHtml = 'Like what you see? Visit the ' +\n",
              "            '<a target=\"_blank\" href=https://colab.research.google.com/notebooks/data_table.ipynb>data table notebook</a>'\n",
              "            + ' to learn more about interactive tables.';\n",
              "          element.innerHTML = '';\n",
              "          dataTable['output_type'] = 'display_data';\n",
              "          await google.colab.output.renderOutput(dataTable, element);\n",
              "          const docLink = document.createElement('div');\n",
              "          docLink.innerHTML = docLinkHtml;\n",
              "          element.appendChild(docLink);\n",
              "        }\n",
              "      </script>\n",
              "    </div>\n",
              "  </div>\n",
              "  "
            ]
          },
          "metadata": {},
          "execution_count": 25
        }
      ],
      "source": [
        "df"
      ]
    },
    {
      "cell_type": "markdown",
      "metadata": {
        "id": "r1EfmuW66DA-"
      },
      "source": [
        "# **Analysing**"
      ]
    },
    {
      "cell_type": "code",
      "execution_count": null,
      "metadata": {
        "colab": {
          "base_uri": "https://localhost:8080/"
        },
        "id": "rz835e3e5Xks",
        "outputId": "bac6bab1-dd69-4f03-def7-0ad45ab8fa4f"
      },
      "outputs": [
        {
          "name": "stdout",
          "output_type": "stream",
          "text": [
            "Number of words: 6077968\n",
            "Number of unique words: 175749\n",
            "Most common words: [('br', 114890), ('movie', 83523), ('film', 74459), ('one', 51028), ('like', 38992), ('good', 28570), ('even', 24576), ('would', 24024), ('time', 23269), ('really', 22951), ('see', 22535), ('story', 22097), ('much', 18947), ('well', 18798), ('get', 18205), ('great', 17821), ('also', 17818), ('bad', 17719), ('people', 17538), ('first', 17155)]\n"
          ]
        }
      ],
      "source": [
        "# Create a list of all the words in the training set\n",
        "words = []\n",
        "for text in df['review']:\n",
        "    words.extend(text.split())\n",
        "\n",
        "# Calculate some linguistic features\n",
        "num_words = len(words)\n",
        "num_unique_words = len(set(words))\n",
        "word_counts = Counter(words)\n",
        "most_common_words = word_counts.most_common(20)\n",
        "\n",
        "# Print the results\n",
        "print(f\"Number of words: {num_words}\")\n",
        "print(f\"Number of unique words: {num_unique_words}\")\n",
        "print(f\"Most common words: {most_common_words}\")"
      ]
    },
    {
      "cell_type": "markdown",
      "metadata": {
        "id": "jaUWO6snCzLs"
      },
      "source": [
        "#MLPClassifier"
      ]
    },
    {
      "cell_type": "code",
      "execution_count": null,
      "metadata": {
        "id": "ohhzN_gA7WxM"
      },
      "outputs": [],
      "source": [
        "X = df['review']\n",
        "y = df['sentiment']"
      ]
    },
    {
      "cell_type": "code",
      "execution_count": null,
      "metadata": {
        "colab": {
          "base_uri": "https://localhost:8080/"
        },
        "id": "uhmzKFeDD6hY",
        "outputId": "b21b6ba8-fdd0-4cf6-a0db-c64bf74e2198"
      },
      "outputs": [
        {
          "data": {
            "text/plain": [
              "0        one reviewers mentioned watching oz episode yo...\n",
              "1        wonderful little production br br filming tech...\n",
              "2        thought wonderful way spend time hot summer we...\n",
              "3        basically theres family little boy jake thinks...\n",
              "4        petter matteis love time money visually stunni...\n",
              "                               ...                        \n",
              "49995    thought movie right good job wasnt creative or...\n",
              "49996    bad plot bad dialogue bad acting idiotic direc...\n",
              "49997    catholic taught parochial elementary schools n...\n",
              "49998    im going disagree previous comment side maltin...\n",
              "49999    one expects star trek movies high art fans exp...\n",
              "Name: review, Length: 50000, dtype: object"
            ]
          },
          "execution_count": 47,
          "metadata": {},
          "output_type": "execute_result"
        }
      ],
      "source": [
        "X"
      ]
    },
    {
      "cell_type": "code",
      "source": [],
      "metadata": {
        "id": "buE86zS7BgbA"
      },
      "execution_count": null,
      "outputs": []
    },
    {
      "cell_type": "code",
      "execution_count": null,
      "metadata": {
        "colab": {
          "base_uri": "https://localhost:8080/"
        },
        "id": "9eieGCVrD8d-",
        "outputId": "5a069a47-f94b-4d27-a680-656617202339"
      },
      "outputs": [
        {
          "data": {
            "text/plain": [
              "0        positive\n",
              "1        positive\n",
              "2        positive\n",
              "3        negative\n",
              "4        positive\n",
              "           ...   \n",
              "49995    positive\n",
              "49996    negative\n",
              "49997    negative\n",
              "49998    negative\n",
              "49999    negative\n",
              "Name: sentiment, Length: 50000, dtype: object"
            ]
          },
          "execution_count": 48,
          "metadata": {},
          "output_type": "execute_result"
        }
      ],
      "source": [
        "y"
      ]
    },
    {
      "cell_type": "markdown",
      "source": [
        "#TD-IDF"
      ],
      "metadata": {
        "id": "Hy9eOb6GEwEz"
      }
    },
    {
      "cell_type": "code",
      "execution_count": null,
      "metadata": {
        "id": "SabK9hi_D_XV"
      },
      "outputs": [],
      "source": [
        "# Convert the reviews to numerical\n",
        "# features using a TfidfVectorizer\n",
        "vectorizer = TfidfVectorizer()\n",
        "X = vectorizer.fit_transform(X)"
      ]
    },
    {
      "cell_type": "code",
      "execution_count": null,
      "metadata": {
        "colab": {
          "base_uri": "https://localhost:8080/"
        },
        "id": "Oo6axH2al-9g",
        "outputId": "69eca33e-325d-4766-f56b-c976cd9d6aca"
      },
      "outputs": [
        {
          "output_type": "stream",
          "name": "stdout",
          "text": [
            "(50000, 175731)\n"
          ]
        }
      ],
      "source": [
        "print(X.shape)"
      ]
    },
    {
      "cell_type": "code",
      "execution_count": null,
      "metadata": {
        "colab": {
          "base_uri": "https://localhost:8080/"
        },
        "id": "4LrsfW7ZQGd_",
        "outputId": "4823a47f-ff81-4854-f634-562c3742b806"
      },
      "outputs": [
        {
          "name": "stdout",
          "output_type": "stream",
          "text": [
            "  (0, 140360)\t0.04709107508941444\n",
            "  (0, 36329)\t0.07312623356337325\n",
            "  (0, 158435)\t0.05712159462754396\n",
            "  (0, 166526)\t0.1249552738079699\n",
            "  (0, 162325)\t0.07050962775076966\n",
            "  (0, 29711)\t0.07216761958343103\n",
            "  (0, 13038)\t0.0444675177024648\n",
            "  (0, 94911)\t0.036487863120386904\n",
            "  (0, 51052)\t0.048020574485451245\n",
            "  (0, 141642)\t0.06420613391975384\n",
            "  (0, 148649)\t0.054886254706700485\n",
            "  (0, 85161)\t0.048050339326616176\n",
            "  (0, 15387)\t0.0996726635691873\n",
            "  (0, 160790)\t0.04935743800492976\n",
            "  (0, 27662)\t0.052976531190353914\n",
            "  (0, 97407)\t0.051091940271439776\n",
            "  (0, 93227)\t0.08733495314216698\n",
            "  (0, 169495)\t0.025773602091610025\n",
            "  (0, 10087)\t0.037967097714570915\n",
            "  (0, 61442)\t0.052268816278460715\n",
            "  (0, 110517)\t0.04931065907624953\n",
            "  (0, 83208)\t0.04746953420505301\n",
            "  (0, 76712)\t0.1679148067823794\n",
            "  (0, 105211)\t0.10806408155328516\n",
            "  (0, 143691)\t0.06922119858051072\n",
            "  :\t:\n",
            "  (49999, 146753)\t0.09901199126999902\n",
            "  (49999, 101482)\t0.1933285482256133\n",
            "  (49999, 172910)\t0.08778853716527618\n",
            "  (49999, 22396)\t0.07814917904236406\n",
            "  (49999, 63199)\t0.050961560336468224\n",
            "  (49999, 14307)\t0.06800294867912246\n",
            "  (49999, 6097)\t0.07559268903697165\n",
            "  (49999, 168611)\t0.06507068698220435\n",
            "  (49999, 101202)\t0.2706959936091909\n",
            "  (49999, 49819)\t0.10758061039428506\n",
            "  (49999, 25154)\t0.06558430313505707\n",
            "  (49999, 117882)\t0.06770075884275409\n",
            "  (49999, 168896)\t0.06329420253383586\n",
            "  (49999, 172938)\t0.17728550387863198\n",
            "  (49999, 136204)\t0.10943095405550225\n",
            "  (49999, 169495)\t0.05865778461952407\n",
            "  (49999, 133962)\t0.07051089087870933\n",
            "  (49999, 172974)\t0.054859841227835555\n",
            "  (49999, 52756)\t0.16983317734824432\n",
            "  (49999, 70124)\t0.09527979500308933\n",
            "  (49999, 134441)\t0.0733615422098557\n",
            "  (49999, 18355)\t0.03930273850507065\n",
            "  (49999, 174631)\t0.10436918214173815\n",
            "  (49999, 168660)\t0.07410887006890916\n",
            "  (49999, 109608)\t0.04065688478328748\n"
          ]
        }
      ],
      "source": [
        "print(X)"
      ]
    },
    {
      "cell_type": "code",
      "execution_count": null,
      "metadata": {
        "id": "_zdUT4OMFjAk",
        "colab": {
          "base_uri": "https://localhost:8080/"
        },
        "outputId": "66a92122-be27-4721-a685-f435e6d30743"
      },
      "outputs": [
        {
          "output_type": "stream",
          "name": "stdout",
          "text": [
            "Number of training data points: 40000\n",
            "Number of test data points: 10000\n",
            "Number of training labels: 40000\n",
            "Number of test labels: 10000\n"
          ]
        }
      ],
      "source": [
        "# Split the data into training and test sets\n",
        "X_train, X_test, y_train, y_test = train_test_split(X, y, test_size=0.2, random_state=42)\n",
        "\n",
        "# Print the number of data points in each set\n",
        "print(f'Number of training data points: {X_train.shape[0]}')\n",
        "print(f'Number of test data points: {X_test.shape[0]}')\n",
        "print(f'Number of training labels: {y_train.shape[0]}')\n",
        "print(f'Number of test labels: {y_test.shape[0]}')"
      ]
    },
    {
      "cell_type": "markdown",
      "source": [
        "#For plotting report"
      ],
      "metadata": {
        "id": "MGrIq0aV0xbe"
      }
    },
    {
      "cell_type": "code",
      "source": [
        "from sklearn.metrics import confusion_matrix\n",
        "\n",
        "def plot_confusion_matrix(y_true, y_pred):\n",
        "    # Calculate the confusion matrix\n",
        "    cm = confusion_matrix(y_true, y_pred)\n",
        "\n",
        "    # print matrix\n",
        "    print(\"Confusion Matrix\")\n",
        "    print(cm)\n",
        "\n",
        "    # Create a figure and a subplot\n",
        "    fig, ax = plt.subplots()\n",
        "\n",
        "    # Create a heatmap from the confusion matrix\n",
        "    cax = ax.imshow(cm, cmap='Blues')\n",
        "\n",
        "    # Add labels to the plot\n",
        "    ax.set_ylabel('True label')\n",
        "    ax.set_xlabel('Predicted label')\n",
        "    ax.set_title('Confusion Matrix')\n",
        "    ax.xaxis.set_ticklabels(['negative', 'positive'])\n",
        "    ax.yaxis.set_ticklabels(['negative', 'positive'])\n",
        "\n",
        "    # Add a colorbar\n",
        "    fig.colorbar(cax)\n"
      ],
      "metadata": {
        "id": "E2SG1-WFW7YI"
      },
      "execution_count": null,
      "outputs": []
    },
    {
      "cell_type": "markdown",
      "source": [
        "#RandomForest"
      ],
      "metadata": {
        "id": "Lh_qI7A_XSxZ"
      }
    },
    {
      "cell_type": "markdown",
      "source": [],
      "metadata": {
        "id": "70KA0RJTL-F0"
      }
    },
    {
      "cell_type": "code",
      "source": [
        "# Create a RandomForestClassifier object\n",
        "clf_rdf = RandomForestClassifier(\n",
        "    # Set the number of decision trees in the forest to 100\n",
        "    n_estimators=100,\n",
        "    # Set the maximum depth of each tree to 20\n",
        "    max_depth=20,\n",
        "    # Set the random seed to 0 for reproducibility\n",
        "    random_state=0,\n",
        "    # Suppress output during training\n",
        "    verbose=False\n",
        ")\n",
        "\n",
        "# Fit the classifier to the training data and labels\n",
        "clf_rdf_hdl = clf_rdf.fit(X_train, y_train)"
      ],
      "metadata": {
        "id": "4cuhHJZjOzkA"
      },
      "execution_count": null,
      "outputs": []
    },
    {
      "cell_type": "code",
      "source": [
        "# Use the classifier's predict method to make predictions\n",
        "# on the test data\n",
        "y_pre = clf_rdf.predict(X_test)"
      ],
      "metadata": {
        "id": "no9BUEYfTDMw"
      },
      "execution_count": null,
      "outputs": []
    },
    {
      "cell_type": "code",
      "source": [
        "print(classification_report(y_test, y_pre))"
      ],
      "metadata": {
        "colab": {
          "base_uri": "https://localhost:8080/"
        },
        "id": "h_zoI0pVTGa-",
        "outputId": "a2d428b5-e5b7-4dad-e5b1-8e43c6bb3d5d"
      },
      "execution_count": null,
      "outputs": [
        {
          "output_type": "stream",
          "name": "stdout",
          "text": [
            "              precision    recall  f1-score   support\n",
            "\n",
            "    negative       0.85      0.81      0.83      4961\n",
            "    positive       0.82      0.86      0.84      5039\n",
            "\n",
            "    accuracy                           0.84     10000\n",
            "   macro avg       0.84      0.84      0.84     10000\n",
            "weighted avg       0.84      0.84      0.84     10000\n",
            "\n"
          ]
        }
      ]
    },
    {
      "cell_type": "code",
      "source": [
        "import matplotlib.pyplot as plt\n",
        "from sklearn.metrics import confusion_matrix\n",
        "\n",
        "# Calculate the accuracy of the model\n",
        "accuracy = clf_rdf_hdl.score(X_test, y_test)\n",
        "\n",
        "# Plot the confusion matrix\n",
        "plot_confusion_matrix(y_test, y_pre)\n",
        "\n",
        "# Add the accuracy to the plot\n",
        "plt.title(f'Accuracy: {accuracy:.2f}')\n",
        "\n",
        "# Show the plot\n",
        "plt.show()"
      ],
      "metadata": {
        "colab": {
          "base_uri": "https://localhost:8080/",
          "height": 349
        },
        "id": "QqdwfpPaTRc7",
        "outputId": "1232d8a1-56d5-4d90-ac5f-bbd252014f34"
      },
      "execution_count": null,
      "outputs": [
        {
          "output_type": "stream",
          "name": "stdout",
          "text": [
            "Confusion Matrix\n",
            "[[4043  918]\n",
            " [ 715 4324]]\n"
          ]
        },
        {
          "output_type": "display_data",
          "data": {
            "text/plain": [
              "<Figure size 432x288 with 2 Axes>"
            ],
            "image/png": "[encoded data removed]"
          },
          "metadata": {
            "needs_background": "light"
          }
        }
      ]
    },
    {
      "cell_type": "code",
      "source": [
        "from sklearn.model_selection import cross_val_score\n",
        "scores = cross_val_score(clf_rdf_hdl,X, y, cv=5)\n",
        "print(\"Accuracy(using cross_val_score:) %0.2f (+/- %0.2f)\" % (scores.mean(), scores.std() * 2))"
      ],
      "metadata": {
        "colab": {
          "base_uri": "https://localhost:8080/"
        },
        "id": "xvh2rEEbKz1-",
        "outputId": "700187fd-fade-44cc-d7eb-4c493cc168f7"
      },
      "execution_count": null,
      "outputs": [
        {
          "output_type": "stream",
          "name": "stdout",
          "text": [
            "Accuracy(using cross_val_score:) 0.84 (+/- 0.01)\n"
          ]
        }
      ]
    },
    {
      "cell_type": "markdown",
      "source": [
        "#SVM"
      ],
      "metadata": {
        "id": "wzYBFU4V1Atx"
      }
    },
    {
      "cell_type": "code",
      "source": [
        "# Import the SVC class from the sklearn.svm module\n",
        "from sklearn.svm import SVC\n",
        "\n",
        "# Create an SVC object\n",
        "clf_svm = SVC(\n",
        "    # Use the default value for gamma, which will be\n",
        "    # 1 / n_features\n",
        "    gamma='auto',\n",
        "    # Enable output during training\n",
        "    verbose=True\n",
        ")\n",
        "\n",
        "# Fit the SVC object to the training data and labels\n",
        "clf_svm_hdl = clf_svm.fit(X_train, y_train)"
      ],
      "metadata": {
        "colab": {
          "base_uri": "https://localhost:8080/"
        },
        "id": "5HTSSGxNXjqn",
        "outputId": "94891a9b-b814-4bb6-8ac1-d93aa7c735a8"
      },
      "execution_count": null,
      "outputs": [
        {
          "output_type": "stream",
          "name": "stdout",
          "text": [
            "[LibSVM]"
          ]
        }
      ]
    },
    {
      "cell_type": "code",
      "source": [
        "# Use the classifier's predict method to make predictions\n",
        "# on the test data\n",
        "y_pre = clf_svm.predict(X_test)"
      ],
      "metadata": {
        "id": "HxcBfW1qXwXI"
      },
      "execution_count": null,
      "outputs": []
    },
    {
      "cell_type": "code",
      "source": [
        "print(classification_report(y_test, y_pre))"
      ],
      "metadata": {
        "colab": {
          "base_uri": "https://localhost:8080/"
        },
        "id": "V4I6tbEZXzgM",
        "outputId": "34d30cfb-da88-4522-e6be-9592ffa6ec45"
      },
      "execution_count": null,
      "outputs": [
        {
          "output_type": "stream",
          "name": "stdout",
          "text": [
            "              precision    recall  f1-score   support\n",
            "\n",
            "    negative       0.50      1.00      0.66      4961\n",
            "    positive       0.00      0.00      0.00      5039\n",
            "\n",
            "    accuracy                           0.50     10000\n",
            "   macro avg       0.25      0.50      0.33     10000\n",
            "weighted avg       0.25      0.50      0.33     10000\n",
            "\n"
          ]
        },
        {
          "output_type": "stream",
          "name": "stderr",
          "text": [
            "/usr/local/lib/python3.8/dist-packages/sklearn/metrics/_classification.py:1318: UndefinedMetricWarning: Precision and F-score are ill-defined and being set to 0.0 in labels with no predicted samples. Use `zero_division` parameter to control this behavior.\n",
            "  _warn_prf(average, modifier, msg_start, len(result))\n",
            "/usr/local/lib/python3.8/dist-packages/sklearn/metrics/_classification.py:1318: UndefinedMetricWarning: Precision and F-score are ill-defined and being set to 0.0 in labels with no predicted samples. Use `zero_division` parameter to control this behavior.\n",
            "  _warn_prf(average, modifier, msg_start, len(result))\n",
            "/usr/local/lib/python3.8/dist-packages/sklearn/metrics/_classification.py:1318: UndefinedMetricWarning: Precision and F-score are ill-defined and being set to 0.0 in labels with no predicted samples. Use `zero_division` parameter to control this behavior.\n",
            "  _warn_prf(average, modifier, msg_start, len(result))\n"
          ]
        }
      ]
    },
    {
      "cell_type": "code",
      "source": [
        "import matplotlib.pyplot as plt\n",
        "from sklearn.metrics import confusion_matrix\n",
        "\n",
        "# Calculate the accuracy of the model\n",
        "accuracy = clf_svm_hdl.score(X_test, y_test)\n",
        "\n",
        "# Plot the confusion matrix\n",
        "plot_confusion_matrix(y_test, y_pre)\n",
        "\n",
        "# Add the accuracy to the plot\n",
        "plt.title(f'Accuracy: {accuracy:.2f}')\n",
        "\n",
        "# Show the plot\n",
        "plt.show()"
      ],
      "metadata": {
        "colab": {
          "base_uri": "https://localhost:8080/",
          "height": 349
        },
        "id": "8vE-rF-oRZpn",
        "outputId": "3e088f2f-8080-445f-b77d-87df3e728472"
      },
      "execution_count": null,
      "outputs": [
        {
          "output_type": "stream",
          "name": "stdout",
          "text": [
            "Confusion Matrix\n",
            "[[4961    0]\n",
            " [5039    0]]\n"
          ]
        },
        {
          "output_type": "display_data",
          "data": {
            "text/plain": [
              "<Figure size 432x288 with 2 Axes>"
            ],
            "image/png": "[encoded data removed]"
          },
          "metadata": {
            "needs_background": "light"
          }
        }
      ]
    },
    {
      "cell_type": "code",
      "source": [
        "scores = cross_val_score(clf_svm_hdl,X, y, cv=5)\n",
        "print(\"Accuracy(using cross_val_score): %0.2f (+/- %0.2f)\" % (scores.mean(), scores.std() * 2))"
      ],
      "metadata": {
        "colab": {
          "base_uri": "https://localhost:8080/"
        },
        "id": "LqeU5STwLNI1",
        "outputId": "5e847ebd-c6be-4424-e3f7-fbcc90a5290a"
      },
      "execution_count": null,
      "outputs": [
        {
          "output_type": "stream",
          "name": "stdout",
          "text": [
            "[LibSVM][LibSVM][LibSVM][LibSVM][LibSVM]Accuracy(using cross_val_score): 0.62 (+/- 0.02)\n"
          ]
        }
      ]
    },
    {
      "cell_type": "markdown",
      "source": [
        "#MLPClassification"
      ],
      "metadata": {
        "id": "Uxo8mNv8dBzi"
      }
    },
    {
      "cell_type": "code",
      "source": [
        "# Create an MLPClassifier object\n",
        "clf_MLP = MLPClassifier(\n",
        "    # Use the lbfgs solver\n",
        "    solver='lbfgs',\n",
        "    # Suppress output during training\n",
        "    verbose=False\n",
        ")\n",
        "\n",
        "# Fit the MLPClassifier object to the training data and labels\n",
        "clf_MLP_hdl = clf_MLP.fit(X_train, y_train)"
      ],
      "metadata": {
        "id": "m4z0vMNKdBft"
      },
      "execution_count": null,
      "outputs": []
    },
    {
      "cell_type": "code",
      "source": [
        "# Use the classifier's predict method to make predictions\n",
        "# on the test data\n",
        "y_pre = clf_MLP.predict(X_test)"
      ],
      "metadata": {
        "id": "PCx2UoXmdH-t"
      },
      "execution_count": null,
      "outputs": []
    },
    {
      "cell_type": "code",
      "source": [
        "print(classification_report(y_test, y_pre))"
      ],
      "metadata": {
        "colab": {
          "base_uri": "https://localhost:8080/"
        },
        "id": "EAXbAm1YdRiP",
        "outputId": "fbc66074-f407-46d7-d0fe-154abb0a41df"
      },
      "execution_count": null,
      "outputs": [
        {
          "output_type": "stream",
          "name": "stdout",
          "text": [
            "              precision    recall  f1-score   support\n",
            "\n",
            "    negative       0.88      0.88      0.88      4961\n",
            "    positive       0.88      0.89      0.88      5039\n",
            "\n",
            "    accuracy                           0.88     10000\n",
            "   macro avg       0.88      0.88      0.88     10000\n",
            "weighted avg       0.88      0.88      0.88     10000\n",
            "\n"
          ]
        }
      ]
    },
    {
      "cell_type": "code",
      "source": [
        "import matplotlib.pyplot as plt\n",
        "from sklearn.metrics import confusion_matrix\n",
        "\n",
        "# Calculate the accuracy of the model\n",
        "accuracy = clf_MLP_hdl.score(X_test, y_test)\n",
        "\n",
        "# Plot the confusion matrix\n",
        "plot_confusion_matrix(y_test, y_pre)\n",
        "\n",
        "# Add the accuracy to the plot\n",
        "plt.title(f'Accuracy: {accuracy:.2f}')\n",
        "\n",
        "# Show the plot\n",
        "plt.show()"
      ],
      "metadata": {
        "colab": {
          "base_uri": "https://localhost:8080/",
          "height": 349
        },
        "id": "Tp8soKMqdX2q",
        "outputId": "ed974c06-6bde-4c83-e6e1-7000041968bc"
      },
      "execution_count": null,
      "outputs": [
        {
          "output_type": "stream",
          "name": "stdout",
          "text": [
            "Confusion Matrix\n",
            "[[4343  618]\n",
            " [ 566 4473]]\n"
          ]
        },
        {
          "output_type": "display_data",
          "data": {
            "text/plain": [
              "<Figure size 432x288 with 2 Axes>"
            ],
            "image/png": "[encoded data removed]"
          },
          "metadata": {
            "needs_background": "light"
          }
        }
      ]
    },
    {
      "cell_type": "code",
      "source": [
        "scores = cross_val_score(clf_MLP_hdl,X, y, cv=5)\n",
        "print(\"Accuracy (using cross_val_score): %0.2f (+/- %0.2f)\" % (scores.mean(), scores.std() * 2))"
      ],
      "metadata": {
        "colab": {
          "base_uri": "https://localhost:8080/"
        },
        "id": "wUErk7klKsyW",
        "outputId": "8bb387e5-f0f9-4050-fd6d-1899b9c806f5"
      },
      "execution_count": null,
      "outputs": [
        {
          "output_type": "stream",
          "name": "stdout",
          "text": [
            "Accuracy (using cross_val_score): 0.88 (+/- 0.00)\n"
          ]
        }
      ]
    }
  ],
  "metadata": {
    "colab": {
      "provenance": []
    },
    "kernelspec": {
      "display_name": "Python 3",
      "name": "python3"
    },
    "language_info": {
      "name": "python"
    }
  },
  "nbformat": 4,
  "nbformat_minor": 0
}